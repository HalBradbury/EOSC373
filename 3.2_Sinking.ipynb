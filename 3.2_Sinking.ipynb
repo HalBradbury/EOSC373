{
 "cells": [
  {
   "cell_type": "markdown",
   "metadata": {
    "id": "pzYXoj5hflKB"
   },
   "source": [
    "# Sinking velocities of particles (Topic 3.2)\n",
    "\n",
    "The terminal velocity (or sinking rate) of spherical particles in seawater is either controlled by the visocity of water (for particles $< 400 \\mathrm{\\mu m}$) or by turbulence (for particles $> 400 \\mathrm{\\mu m}$). \n",
    "\n",
    "Remember that when friction is controlled by the viscosity of seawater the equation to calculate the sinking rate ($w$) is:\n",
    "$$w= \\frac{2}{9}r^2(\\rho_s-\\rho_w)\\frac{g}{\\mu}$$\n",
    "\n",
    "while when friction is controlled by turbulence the equation to calculate the sinking rate ($w$) is:\n",
    "$$w= \\sqrt{16rg(\\rho_s - \\rho_w)/(3\\rho_w)}$$"
   ]
  },
  {
   "cell_type": "markdown",
   "metadata": {
    "id": "7ngN-Ac7f8wC"
   },
   "source": [
    "### Particle #1\n",
    "What is the sinking rate ($w$) of a loose, porous 1 cm spherical aggregate consisting of:<br> 100% organic matter ($\\rho_s = 1.029 \\mathrm{g/cm^3}$)?\n",
    "$$\\rho_s = 1.029 × 10^6 \\mathrm{g/m^3} = 1.029 \\mathrm{g/cm^3}\\\\\n",
    "\\rho_w = 1.028 × 10^6 \\mathrm{g/m^3}\\\\\n",
    "w = ? \\mathrm{m/day}$$\n",
    "\n"
   ]
  },
  {
   "cell_type": "code",
   "execution_count": null,
   "metadata": {
    "id": "BDk3toR1fm-p"
   },
   "outputs": [],
   "source": [
    "densitysolid_1 =  #g/m^3\n",
    "densityseawater =  #g/m^3\n",
    "radius_1 =  #m\n",
    "acceleration = 9.81 #m/s^2\n",
    "\n",
    "w =\n",
    "print(f'{w:2f} m/s') \n",
    "w_day =\n",
    "print(f'{w_day:2f} m/day') \n"
   ]
  },
  {
   "cell_type": "markdown",
   "metadata": {
    "id": "EOJZfwcElCnW"
   },
   "source": [
    "### Particle #2\n",
    "What is the sinking rate ($w$) of a 10 $\\mathrm{\\mu m}$ spherical coccolithophorid cell consisting of:<br>\n",
    "30% carbonate ($\\rho_s= 2.7 \\mathrm{g/cm^3}$)<br>\n",
    "70% organic matter ($\\rho_s= 1.05 \\mathrm{g/cm^3}$)\n",
    "$$\\rho_s =?x10^6 \\mathrm{g/m^3}$$\n",
    "$$w = ? \\mathrm{m/day}$$\n",
    "\n"
   ]
  },
  {
   "cell_type": "code",
   "execution_count": null,
   "metadata": {
    "id": "ebPBjO45jUEK"
   },
   "outputs": [],
   "source": [
    "radius_2=  #m\n",
    "densitysolid_2 =  #g/m^3\n",
    "viscosity_seawater =  #g/m s\n",
    "\n",
    "w =\n",
    "\n",
    "print(f'{w:2f} m/s') \n",
    "w_day =\n",
    "print(f'{w_day:2f} m/day') \n"
   ]
  },
  {
   "cell_type": "markdown",
   "metadata": {
    "id": "1rHVZI0KoELu"
   },
   "source": [
    "### Particle #3\n",
    "What is the sinking rate ($w$) of a 200 $\\mathrm{\\mu m}$ spherical fecal pellet consisting of:<br>\n",
    "30% carbonate ($\\rho_s= 2.7 \\mathrm{g/cm^3}$)<br>\n",
    "70% organic matter ($\\rho_s= 1.05 \\mathrm{g/cm^3}$)\n",
    "$$\\rho_s =?x10^6 \\mathrm{g/m^3}$$\n",
    "$$w = ? \\mathrm{m/day}$$\n",
    "\n"
   ]
  },
  {
   "cell_type": "code",
   "execution_count": null,
   "metadata": {
    "id": "atrOG0thnune"
   },
   "outputs": [],
   "source": [
    "radius_3= #m\n",
    "densitysolid_2 = #g/m^3\n",
    "viscosity_seawater = 1.8 #g/m s\n",
    "\n",
    "w = \n",
    "\n",
    "print(f'{w:2f} m/s') \n",
    "w_day = \n",
    "print(f'{w_day:2f} m/day') "
   ]
  },
  {
   "cell_type": "code",
   "execution_count": null,
   "metadata": {
    "id": "NSFdGH3yruE0"
   },
   "outputs": [],
   "source": []
  }
 ],
 "metadata": {
  "colab": {
   "authorship_tag": "ABX9TyOQ/WCyRP4fkdUwSi/vIYVG",
   "provenance": [
    {
     "file_id": "1Z8i1SQnucF4H37iQyoeeDXhPv_Gu7G3H",
     "timestamp": 1674428025139
    }
   ]
  },
  "kernelspec": {
   "display_name": "Python 3 (ipykernel)",
   "language": "python",
   "name": "python3"
  },
  "language_info": {
   "codemirror_mode": {
    "name": "ipython",
    "version": 3
   },
   "file_extension": ".py",
   "mimetype": "text/x-python",
   "name": "python",
   "nbconvert_exporter": "python",
   "pygments_lexer": "ipython3",
   "version": "3.9.13"
  }
 },
 "nbformat": 4,
 "nbformat_minor": 4
}
